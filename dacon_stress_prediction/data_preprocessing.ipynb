{
 "cells": [
  {
   "cell_type": "markdown",
   "id": "59aacfa3",
   "metadata": {},
   "source": [
    "### Dacon 데이콘 Basic 스트레스 지수 예측 : 건강 데이터로 마음의 균형을 찾아라!\n",
    "- https://dacon.io/competitions/official/236526/codeshare/12529?page=1&dtype=recent\n",
    "\n",
    "\n"
   ]
  },
  {
   "cell_type": "code",
   "execution_count": null,
   "id": "cfbe6354",
   "metadata": {
    "vscode": {
     "languageId": "plaintext"
    }
   },
   "outputs": [],
   "source": []
  },
  {
   "cell_type": "code",
   "execution_count": null,
   "id": "ffdf07a7",
   "metadata": {
    "vscode": {
     "languageId": "plaintext"
    }
   },
   "outputs": [],
   "source": []
  }
 ],
 "metadata": {
  "language_info": {
   "name": "python"
  }
 },
 "nbformat": 4,
 "nbformat_minor": 5
}
