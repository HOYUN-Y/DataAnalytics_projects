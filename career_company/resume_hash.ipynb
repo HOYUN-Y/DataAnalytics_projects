{
 "cells": [
  {
   "cell_type": "code",
   "execution_count": 11,
   "id": "435267db",
   "metadata": {},
   "outputs": [],
   "source": [
    "import hashlib\n",
    "import pandas as pd\n",
    "import numpy as np"
   ]
  },
  {
   "cell_type": "code",
   "execution_count": 9,
   "id": "efb0450e",
   "metadata": {},
   "outputs": [
    {
     "name": "stdout",
     "output_type": "stream",
     "text": [
      "ac7bbafe298e38abcf90fc1b02bd1c74b5295664ac86bfbe4206c571daa2908a\n"
     ]
    }
   ],
   "source": [
    "company_name = \"인공지능팩토리\"\n",
    "date = 2025\n",
    "season = \"상반기\"\n",
    "working_place = \"마케팅직무\"\n",
    "staff_type = \"채용형인턴\"\n",
    "combined = f\"{company_name}{date}{season}{working_place}{staff_type}\"\n",
    "\n",
    "# 해시값 생성 (SHA256)\n",
    "hash_object = hashlib.sha256(combined.encode())\n",
    "hash_value = hash_object.hexdigest()\n",
    "\n",
    "print(hash_value)"
   ]
  },
  {
   "cell_type": "code",
   "execution_count": 17,
   "id": "48619c28",
   "metadata": {},
   "outputs": [
    {
     "data": {
      "text/html": [
       "<div>\n",
       "<style scoped>\n",
       "    .dataframe tbody tr th:only-of-type {\n",
       "        vertical-align: middle;\n",
       "    }\n",
       "\n",
       "    .dataframe tbody tr th {\n",
       "        vertical-align: top;\n",
       "    }\n",
       "\n",
       "    .dataframe thead th {\n",
       "        text-align: right;\n",
       "    }\n",
       "</style>\n",
       "<table border=\"1\" class=\"dataframe\">\n",
       "  <thead>\n",
       "    <tr style=\"text-align: right;\">\n",
       "      <th></th>\n",
       "      <th>기업명</th>\n",
       "      <th>년도</th>\n",
       "      <th>시즌</th>\n",
       "      <th>직무</th>\n",
       "      <th>채용타입</th>\n",
       "      <th>해시</th>\n",
       "      <th>해시끝5자리</th>\n",
       "    </tr>\n",
       "  </thead>\n",
       "  <tbody>\n",
       "  </tbody>\n",
       "</table>\n",
       "</div>"
      ],
      "text/plain": [
       "Empty DataFrame\n",
       "Columns: [기업명, 년도, 시즌, 직무, 채용타입, 해시, 해시끝5자리]\n",
       "Index: []"
      ]
     },
     "execution_count": 17,
     "metadata": {},
     "output_type": "execute_result"
    }
   ],
   "source": [
    "resume_company = pd.DataFrame(columns=['기업명','년도','시즌','직무','채용타입','해시','해시끝5자리'])\n",
    "resume_company"
   ]
  },
  {
   "cell_type": "code",
   "execution_count": 18,
   "id": "d6349e5c",
   "metadata": {},
   "outputs": [],
   "source": [
    "resume_company.loc[0] = [company_name, date, season, working_place, staff_type, hash_value, hash_value[-5:]]"
   ]
  },
  {
   "cell_type": "code",
   "execution_count": 19,
   "id": "726ac1d4",
   "metadata": {},
   "outputs": [
    {
     "data": {
      "text/html": [
       "<div>\n",
       "<style scoped>\n",
       "    .dataframe tbody tr th:only-of-type {\n",
       "        vertical-align: middle;\n",
       "    }\n",
       "\n",
       "    .dataframe tbody tr th {\n",
       "        vertical-align: top;\n",
       "    }\n",
       "\n",
       "    .dataframe thead th {\n",
       "        text-align: right;\n",
       "    }\n",
       "</style>\n",
       "<table border=\"1\" class=\"dataframe\">\n",
       "  <thead>\n",
       "    <tr style=\"text-align: right;\">\n",
       "      <th></th>\n",
       "      <th>기업명</th>\n",
       "      <th>년도</th>\n",
       "      <th>시즌</th>\n",
       "      <th>직무</th>\n",
       "      <th>채용타입</th>\n",
       "      <th>해시</th>\n",
       "      <th>해시끝5자리</th>\n",
       "    </tr>\n",
       "  </thead>\n",
       "  <tbody>\n",
       "    <tr>\n",
       "      <th>0</th>\n",
       "      <td>인공지능팩토리</td>\n",
       "      <td>2025</td>\n",
       "      <td>상반기</td>\n",
       "      <td>마케팅직무</td>\n",
       "      <td>채용형인턴</td>\n",
       "      <td>ac7bbafe298e38abcf90fc1b02bd1c74b5295664ac86bf...</td>\n",
       "      <td>2908a</td>\n",
       "    </tr>\n",
       "  </tbody>\n",
       "</table>\n",
       "</div>"
      ],
      "text/plain": [
       "       기업명    년도   시즌     직무   채용타입  \\\n",
       "0  인공지능팩토리  2025  상반기  마케팅직무  채용형인턴   \n",
       "\n",
       "                                                  해시 해시끝5자리  \n",
       "0  ac7bbafe298e38abcf90fc1b02bd1c74b5295664ac86bf...  2908a  "
      ]
     },
     "execution_count": 19,
     "metadata": {},
     "output_type": "execute_result"
    }
   ],
   "source": [
    "resume_company"
   ]
  },
  {
   "cell_type": "code",
   "execution_count": 22,
   "id": "437c08f7",
   "metadata": {},
   "outputs": [],
   "source": [
    "resume_company.to_csv('기업_지원이력_해시값.csv', index=False)"
   ]
  },
  {
   "cell_type": "code",
   "execution_count": 24,
   "id": "bce7af09",
   "metadata": {},
   "outputs": [
    {
     "data": {
      "text/html": [
       "<div>\n",
       "<style scoped>\n",
       "    .dataframe tbody tr th:only-of-type {\n",
       "        vertical-align: middle;\n",
       "    }\n",
       "\n",
       "    .dataframe tbody tr th {\n",
       "        vertical-align: top;\n",
       "    }\n",
       "\n",
       "    .dataframe thead th {\n",
       "        text-align: right;\n",
       "    }\n",
       "</style>\n",
       "<table border=\"1\" class=\"dataframe\">\n",
       "  <thead>\n",
       "    <tr style=\"text-align: right;\">\n",
       "      <th></th>\n",
       "      <th>기업명</th>\n",
       "      <th>년도</th>\n",
       "      <th>시즌</th>\n",
       "      <th>직무</th>\n",
       "      <th>채용타입</th>\n",
       "      <th>해시</th>\n",
       "      <th>해시끝5자리</th>\n",
       "    </tr>\n",
       "  </thead>\n",
       "  <tbody>\n",
       "    <tr>\n",
       "      <th>0</th>\n",
       "      <td>인공지능팩토리</td>\n",
       "      <td>2025</td>\n",
       "      <td>상반기</td>\n",
       "      <td>마케팅직무</td>\n",
       "      <td>채용형인턴</td>\n",
       "      <td>ac7bbafe298e38abcf90fc1b02bd1c74b5295664ac86bf...</td>\n",
       "      <td>2908a</td>\n",
       "    </tr>\n",
       "    <tr>\n",
       "      <th>1</th>\n",
       "      <td>애자일소다</td>\n",
       "      <td>2025</td>\n",
       "      <td>하반기</td>\n",
       "      <td>데이터사이언티스트</td>\n",
       "      <td>인턴</td>\n",
       "      <td>NaN</td>\n",
       "      <td>NaN</td>\n",
       "    </tr>\n",
       "  </tbody>\n",
       "</table>\n",
       "</div>"
      ],
      "text/plain": [
       "       기업명    년도   시즌         직무   채용타입  \\\n",
       "0  인공지능팩토리  2025  상반기      마케팅직무  채용형인턴   \n",
       "1    애자일소다  2025  하반기  데이터사이언티스트     인턴   \n",
       "\n",
       "                                                  해시 해시끝5자리  \n",
       "0  ac7bbafe298e38abcf90fc1b02bd1c74b5295664ac86bf...  2908a  \n",
       "1                                                NaN    NaN  "
      ]
     },
     "execution_count": 24,
     "metadata": {},
     "output_type": "execute_result"
    }
   ],
   "source": [
    "data = pd.read_csv('기업_지원이력_해시값.csv')\n",
    "data"
   ]
  },
  {
   "cell_type": "code",
   "execution_count": 25,
   "id": "500a6f8f",
   "metadata": {},
   "outputs": [
    {
     "name": "stdout",
     "output_type": "stream",
     "text": [
      "f009aec594ea30e7fd0fb217fb7ed41463d7f41a623dc59230137955b5d28c38\n"
     ]
    }
   ],
   "source": [
    "company_name = \"애자일소다\"\n",
    "date = 2025\n",
    "season = \"하반기\"\n",
    "working_place = \"데이터사이언티스트\"\n",
    "staff_type = \"인턴\"\n",
    "combined = f\"{company_name}{date}{season}{working_place}{staff_type}\"\n",
    "\n",
    "# 해시값 생성 (SHA256)\n",
    "hash_object = hashlib.sha256(combined.encode())\n",
    "hash_value = hash_object.hexdigest()\n",
    "\n",
    "print(hash_value)"
   ]
  },
  {
   "cell_type": "code",
   "execution_count": 26,
   "id": "2be0006b",
   "metadata": {},
   "outputs": [
    {
     "data": {
      "text/plain": [
       "'28c38'"
      ]
     },
     "execution_count": 26,
     "metadata": {},
     "output_type": "execute_result"
    }
   ],
   "source": [
    "hash_value[-5:]"
   ]
  },
  {
   "cell_type": "code",
   "execution_count": null,
   "id": "32ffca01",
   "metadata": {},
   "outputs": [],
   "source": [
    "def to_hash(x):\n",
    "    company_name = \"애자일소다\"\n",
    "    date = 2025\n",
    "    season = \"하반기\"\n",
    "    working_place = \"데이터사이언티스트\"\n",
    "    staff_type = \"인턴\"\n",
    "    combined = f\"{company_name}{date}{season}{working_place}{staff_type}\"\n",
    "\n",
    "    # 해시값 생성 (SHA256)\n",
    "    hash_object = hashlib.sha256(combined.encode())\n",
    "    hash_value = hash_object.hexdigest()\n",
    "\n",
    "    print(hash_value)"
   ]
  }
 ],
 "metadata": {
  "kernelspec": {
   "display_name": "data_venv",
   "language": "python",
   "name": "python3"
  },
  "language_info": {
   "codemirror_mode": {
    "name": "ipython",
    "version": 3
   },
   "file_extension": ".py",
   "mimetype": "text/x-python",
   "name": "python",
   "nbconvert_exporter": "python",
   "pygments_lexer": "ipython3",
   "version": "3.8.20"
  }
 },
 "nbformat": 4,
 "nbformat_minor": 5
}
